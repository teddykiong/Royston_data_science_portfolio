{
 "cells": [
  {
   "cell_type": "markdown",
   "id": "fc1c184f",
   "metadata": {},
   "source": [
    "# <center>Building Machine Learning Models to Predict Credit Card Fraud</center>\n",
    "\n",
    "This machine learning project is focused on building an effective model to help detect fraudulent credit card transactions. The goal of this project is to explore the given dataset, perform the necessary visualisations to understand the dataset, scale the features provided in the dataset, build machine learning models for classifying transactions, and comparing the models.\n",
    "\n",
    "## The Dataset\n",
    "\n",
    "This project utilises dataset comprising 1 million credit card transaction records, with each entry labelled as either fraudulent or non-fraudulent. The dataset is openly available on <a href = \"https://www.kaggle.com/datasets/dhanushnarayananr/credit-card-fraud\">Kaggle</a>."
   ]
  },
  {
   "cell_type": "markdown",
   "id": "32c1cc50",
   "metadata": {},
   "source": [
    "## Exploratory Data Analysis and Visualisation"
   ]
  },
  {
   "cell_type": "markdown",
   "id": "9e4c6bdc",
   "metadata": {},
   "source": [
    "Import the required libraries."
   ]
  },
  {
   "cell_type": "code",
   "execution_count": 1,
   "id": "377b3b63",
   "metadata": {},
   "outputs": [],
   "source": [
    "import pandas as pd\n",
    "import numpy as np\n",
    "import matplotlib.pyplot as plt\n",
    "import seaborn as sns\n",
    "\n",
    "%matplotlib inline"
   ]
  },
  {
   "cell_type": "markdown",
   "id": "6dc1bddc",
   "metadata": {},
   "source": [
    "To understand the data, we need to first import and read the data.\n",
    "To follow along, you can also download this data set from Kaggle at https://www.kaggle.com/datasets/dhanushnarayananr/credit-card-fraud"
   ]
  },
  {
   "cell_type": "code",
   "execution_count": 2,
   "id": "4f264670",
   "metadata": {},
   "outputs": [
    {
     "data": {
      "text/html": [
       "<div>\n",
       "<style scoped>\n",
       "    .dataframe tbody tr th:only-of-type {\n",
       "        vertical-align: middle;\n",
       "    }\n",
       "\n",
       "    .dataframe tbody tr th {\n",
       "        vertical-align: top;\n",
       "    }\n",
       "\n",
       "    .dataframe thead th {\n",
       "        text-align: right;\n",
       "    }\n",
       "</style>\n",
       "<table border=\"1\" class=\"dataframe\">\n",
       "  <thead>\n",
       "    <tr style=\"text-align: right;\">\n",
       "      <th></th>\n",
       "      <th>distance_from_home</th>\n",
       "      <th>distance_from_last_transaction</th>\n",
       "      <th>ratio_to_median_purchase_price</th>\n",
       "      <th>repeat_retailer</th>\n",
       "      <th>used_chip</th>\n",
       "      <th>used_pin_number</th>\n",
       "      <th>online_order</th>\n",
       "      <th>fraud</th>\n",
       "    </tr>\n",
       "  </thead>\n",
       "  <tbody>\n",
       "    <tr>\n",
       "      <th>0</th>\n",
       "      <td>57.877857</td>\n",
       "      <td>0.311140</td>\n",
       "      <td>1.945940</td>\n",
       "      <td>1.0</td>\n",
       "      <td>1.0</td>\n",
       "      <td>0.0</td>\n",
       "      <td>0.0</td>\n",
       "      <td>0.0</td>\n",
       "    </tr>\n",
       "    <tr>\n",
       "      <th>1</th>\n",
       "      <td>10.829943</td>\n",
       "      <td>0.175592</td>\n",
       "      <td>1.294219</td>\n",
       "      <td>1.0</td>\n",
       "      <td>0.0</td>\n",
       "      <td>0.0</td>\n",
       "      <td>0.0</td>\n",
       "      <td>0.0</td>\n",
       "    </tr>\n",
       "    <tr>\n",
       "      <th>2</th>\n",
       "      <td>5.091079</td>\n",
       "      <td>0.805153</td>\n",
       "      <td>0.427715</td>\n",
       "      <td>1.0</td>\n",
       "      <td>0.0</td>\n",
       "      <td>0.0</td>\n",
       "      <td>1.0</td>\n",
       "      <td>0.0</td>\n",
       "    </tr>\n",
       "    <tr>\n",
       "      <th>3</th>\n",
       "      <td>2.247564</td>\n",
       "      <td>5.600044</td>\n",
       "      <td>0.362663</td>\n",
       "      <td>1.0</td>\n",
       "      <td>1.0</td>\n",
       "      <td>0.0</td>\n",
       "      <td>1.0</td>\n",
       "      <td>0.0</td>\n",
       "    </tr>\n",
       "    <tr>\n",
       "      <th>4</th>\n",
       "      <td>44.190936</td>\n",
       "      <td>0.566486</td>\n",
       "      <td>2.222767</td>\n",
       "      <td>1.0</td>\n",
       "      <td>1.0</td>\n",
       "      <td>0.0</td>\n",
       "      <td>1.0</td>\n",
       "      <td>0.0</td>\n",
       "    </tr>\n",
       "  </tbody>\n",
       "</table>\n",
       "</div>"
      ],
      "text/plain": [
       "   distance_from_home  distance_from_last_transaction  \\\n",
       "0           57.877857                        0.311140   \n",
       "1           10.829943                        0.175592   \n",
       "2            5.091079                        0.805153   \n",
       "3            2.247564                        5.600044   \n",
       "4           44.190936                        0.566486   \n",
       "\n",
       "   ratio_to_median_purchase_price  repeat_retailer  used_chip  \\\n",
       "0                        1.945940              1.0        1.0   \n",
       "1                        1.294219              1.0        0.0   \n",
       "2                        0.427715              1.0        0.0   \n",
       "3                        0.362663              1.0        1.0   \n",
       "4                        2.222767              1.0        1.0   \n",
       "\n",
       "   used_pin_number  online_order  fraud  \n",
       "0              0.0           0.0    0.0  \n",
       "1              0.0           0.0    0.0  \n",
       "2              0.0           1.0    0.0  \n",
       "3              0.0           1.0    0.0  \n",
       "4              0.0           1.0    0.0  "
      ]
     },
     "execution_count": 2,
     "metadata": {},
     "output_type": "execute_result"
    }
   ],
   "source": [
    "df = pd.read_csv(r\"\\Users\\kanwi\\OneDrive\\Desktop\\IBM Data Science Professional\\card_transdata.csv\", sep = \",\")\n",
    "df.head()"
   ]
  },
  {
   "cell_type": "markdown",
   "id": "b449e6c6",
   "metadata": {},
   "source": [
    "Looks like there are 7 features and 1 target variable (i.e. whether the transaction is fraudulent or not).\n",
    "\n",
    "\n",
    "| Column Name | Description | Feature or Target Variable |\n",
    "|:-----------:|:-----------:|:--------------------------:|\n",
    "| distance_from_home | The distance from home where the transaction happened | Feature |\n",
    "| distance_from_last_transaction |  The distance from last transaction happened | Feature |\n",
    "| ratio_to_median_purchase_price | Ratio of transaction to the median purchase price | Feature |\n",
    "| repeat_retailer | Whether transaction is with a repeat retailer | Feature |\n",
    "| used_chip | Whether the transaction occurred using chip (credit card) | Feature |\n",
    "| used_pin_number | Whether the transaction occurred with a pin number | Feature |\n",
    "| online_order | Whether the transaction was an online transaction | Feature |\n",
    "| fraud | A label of whether the transaction is fraudulent or not | Target Variable |\n",
    "\n",
    "\n",
    "Now that we have an idea of what columns are in the dataset, let's find out more about our dataset using the describe() method."
   ]
  },
  {
   "cell_type": "code",
   "execution_count": 3,
   "id": "14b95a35",
   "metadata": {},
   "outputs": [
    {
     "data": {
      "text/html": [
       "<div>\n",
       "<style scoped>\n",
       "    .dataframe tbody tr th:only-of-type {\n",
       "        vertical-align: middle;\n",
       "    }\n",
       "\n",
       "    .dataframe tbody tr th {\n",
       "        vertical-align: top;\n",
       "    }\n",
       "\n",
       "    .dataframe thead th {\n",
       "        text-align: right;\n",
       "    }\n",
       "</style>\n",
       "<table border=\"1\" class=\"dataframe\">\n",
       "  <thead>\n",
       "    <tr style=\"text-align: right;\">\n",
       "      <th></th>\n",
       "      <th>distance_from_home</th>\n",
       "      <th>distance_from_last_transaction</th>\n",
       "      <th>ratio_to_median_purchase_price</th>\n",
       "      <th>repeat_retailer</th>\n",
       "      <th>used_chip</th>\n",
       "      <th>used_pin_number</th>\n",
       "      <th>online_order</th>\n",
       "      <th>fraud</th>\n",
       "    </tr>\n",
       "  </thead>\n",
       "  <tbody>\n",
       "    <tr>\n",
       "      <th>count</th>\n",
       "      <td>1000000.000000</td>\n",
       "      <td>1000000.000000</td>\n",
       "      <td>1000000.000000</td>\n",
       "      <td>1000000.000000</td>\n",
       "      <td>1000000.000000</td>\n",
       "      <td>1000000.000000</td>\n",
       "      <td>1000000.000000</td>\n",
       "      <td>1000000.000000</td>\n",
       "    </tr>\n",
       "    <tr>\n",
       "      <th>mean</th>\n",
       "      <td>26.628792</td>\n",
       "      <td>5.036519</td>\n",
       "      <td>1.824182</td>\n",
       "      <td>0.881536</td>\n",
       "      <td>0.350399</td>\n",
       "      <td>0.100608</td>\n",
       "      <td>0.650552</td>\n",
       "      <td>0.087403</td>\n",
       "    </tr>\n",
       "    <tr>\n",
       "      <th>std</th>\n",
       "      <td>65.390784</td>\n",
       "      <td>25.843093</td>\n",
       "      <td>2.799589</td>\n",
       "      <td>0.323157</td>\n",
       "      <td>0.477095</td>\n",
       "      <td>0.300809</td>\n",
       "      <td>0.476796</td>\n",
       "      <td>0.282425</td>\n",
       "    </tr>\n",
       "    <tr>\n",
       "      <th>min</th>\n",
       "      <td>0.004874</td>\n",
       "      <td>0.000118</td>\n",
       "      <td>0.004399</td>\n",
       "      <td>0.000000</td>\n",
       "      <td>0.000000</td>\n",
       "      <td>0.000000</td>\n",
       "      <td>0.000000</td>\n",
       "      <td>0.000000</td>\n",
       "    </tr>\n",
       "    <tr>\n",
       "      <th>25%</th>\n",
       "      <td>3.878008</td>\n",
       "      <td>0.296671</td>\n",
       "      <td>0.475673</td>\n",
       "      <td>1.000000</td>\n",
       "      <td>0.000000</td>\n",
       "      <td>0.000000</td>\n",
       "      <td>0.000000</td>\n",
       "      <td>0.000000</td>\n",
       "    </tr>\n",
       "    <tr>\n",
       "      <th>50%</th>\n",
       "      <td>9.967760</td>\n",
       "      <td>0.998650</td>\n",
       "      <td>0.997717</td>\n",
       "      <td>1.000000</td>\n",
       "      <td>0.000000</td>\n",
       "      <td>0.000000</td>\n",
       "      <td>1.000000</td>\n",
       "      <td>0.000000</td>\n",
       "    </tr>\n",
       "    <tr>\n",
       "      <th>75%</th>\n",
       "      <td>25.743985</td>\n",
       "      <td>3.355748</td>\n",
       "      <td>2.096370</td>\n",
       "      <td>1.000000</td>\n",
       "      <td>1.000000</td>\n",
       "      <td>0.000000</td>\n",
       "      <td>1.000000</td>\n",
       "      <td>0.000000</td>\n",
       "    </tr>\n",
       "    <tr>\n",
       "      <th>max</th>\n",
       "      <td>10632.723672</td>\n",
       "      <td>11851.104565</td>\n",
       "      <td>267.802942</td>\n",
       "      <td>1.000000</td>\n",
       "      <td>1.000000</td>\n",
       "      <td>1.000000</td>\n",
       "      <td>1.000000</td>\n",
       "      <td>1.000000</td>\n",
       "    </tr>\n",
       "  </tbody>\n",
       "</table>\n",
       "</div>"
      ],
      "text/plain": [
       "       distance_from_home  distance_from_last_transaction  \\\n",
       "count      1000000.000000                  1000000.000000   \n",
       "mean            26.628792                        5.036519   \n",
       "std             65.390784                       25.843093   \n",
       "min              0.004874                        0.000118   \n",
       "25%              3.878008                        0.296671   \n",
       "50%              9.967760                        0.998650   \n",
       "75%             25.743985                        3.355748   \n",
       "max          10632.723672                    11851.104565   \n",
       "\n",
       "       ratio_to_median_purchase_price  repeat_retailer       used_chip  \\\n",
       "count                  1000000.000000   1000000.000000  1000000.000000   \n",
       "mean                         1.824182         0.881536        0.350399   \n",
       "std                          2.799589         0.323157        0.477095   \n",
       "min                          0.004399         0.000000        0.000000   \n",
       "25%                          0.475673         1.000000        0.000000   \n",
       "50%                          0.997717         1.000000        0.000000   \n",
       "75%                          2.096370         1.000000        1.000000   \n",
       "max                        267.802942         1.000000        1.000000   \n",
       "\n",
       "       used_pin_number    online_order           fraud  \n",
       "count   1000000.000000  1000000.000000  1000000.000000  \n",
       "mean          0.100608        0.650552        0.087403  \n",
       "std           0.300809        0.476796        0.282425  \n",
       "min           0.000000        0.000000        0.000000  \n",
       "25%           0.000000        0.000000        0.000000  \n",
       "50%           0.000000        1.000000        0.000000  \n",
       "75%           0.000000        1.000000        0.000000  \n",
       "max           1.000000        1.000000        1.000000  "
      ]
     },
     "execution_count": 3,
     "metadata": {},
     "output_type": "execute_result"
    }
   ],
   "source": [
    "df.describe()"
   ]
  },
  {
   "cell_type": "code",
   "execution_count": 4,
   "id": "db29817b",
   "metadata": {},
   "outputs": [
    {
     "name": "stdout",
     "output_type": "stream",
     "text": [
      "distance_from_home                float64\n",
      "distance_from_last_transaction    float64\n",
      "ratio_to_median_purchase_price    float64\n",
      "repeat_retailer                   float64\n",
      "used_chip                         float64\n",
      "used_pin_number                   float64\n",
      "online_order                      float64\n",
      "fraud                             float64\n",
      "dtype: object\n"
     ]
    }
   ],
   "source": [
    "print(df.dtypes)"
   ]
  },
  {
   "cell_type": "markdown",
   "id": "6859049d",
   "metadata": {},
   "source": [
    "1 million entries may take up too much computing power on my humble Asus laptop.\n",
    "\n",
    "Let's truncate the data and work with 10,000 entries."
   ]
  },
  {
   "cell_type": "code",
   "execution_count": 5,
   "id": "3ee0c21d",
   "metadata": {},
   "outputs": [
    {
     "data": {
      "text/html": [
       "<div>\n",
       "<style scoped>\n",
       "    .dataframe tbody tr th:only-of-type {\n",
       "        vertical-align: middle;\n",
       "    }\n",
       "\n",
       "    .dataframe tbody tr th {\n",
       "        vertical-align: top;\n",
       "    }\n",
       "\n",
       "    .dataframe thead th {\n",
       "        text-align: right;\n",
       "    }\n",
       "</style>\n",
       "<table border=\"1\" class=\"dataframe\">\n",
       "  <thead>\n",
       "    <tr style=\"text-align: right;\">\n",
       "      <th></th>\n",
       "      <th>distance_from_home</th>\n",
       "      <th>distance_from_last_transaction</th>\n",
       "      <th>ratio_to_median_purchase_price</th>\n",
       "      <th>repeat_retailer</th>\n",
       "      <th>used_chip</th>\n",
       "      <th>used_pin_number</th>\n",
       "      <th>online_order</th>\n",
       "      <th>fraud</th>\n",
       "    </tr>\n",
       "  </thead>\n",
       "  <tbody>\n",
       "    <tr>\n",
       "      <th>count</th>\n",
       "      <td>10000.000000</td>\n",
       "      <td>10000.000000</td>\n",
       "      <td>10000.000000</td>\n",
       "      <td>10000.000000</td>\n",
       "      <td>10000.000000</td>\n",
       "      <td>10000.000000</td>\n",
       "      <td>10000.000000</td>\n",
       "      <td>10000.000000</td>\n",
       "    </tr>\n",
       "    <tr>\n",
       "      <th>mean</th>\n",
       "      <td>26.374744</td>\n",
       "      <td>4.807107</td>\n",
       "      <td>1.824164</td>\n",
       "      <td>0.879000</td>\n",
       "      <td>0.350800</td>\n",
       "      <td>0.104800</td>\n",
       "      <td>0.641500</td>\n",
       "      <td>0.084100</td>\n",
       "    </tr>\n",
       "    <tr>\n",
       "      <th>std</th>\n",
       "      <td>58.811106</td>\n",
       "      <td>22.260124</td>\n",
       "      <td>2.762438</td>\n",
       "      <td>0.326144</td>\n",
       "      <td>0.477244</td>\n",
       "      <td>0.306311</td>\n",
       "      <td>0.479584</td>\n",
       "      <td>0.277552</td>\n",
       "    </tr>\n",
       "    <tr>\n",
       "      <th>min</th>\n",
       "      <td>0.049270</td>\n",
       "      <td>0.000930</td>\n",
       "      <td>0.011373</td>\n",
       "      <td>0.000000</td>\n",
       "      <td>0.000000</td>\n",
       "      <td>0.000000</td>\n",
       "      <td>0.000000</td>\n",
       "      <td>0.000000</td>\n",
       "    </tr>\n",
       "    <tr>\n",
       "      <th>25%</th>\n",
       "      <td>3.808606</td>\n",
       "      <td>0.305219</td>\n",
       "      <td>0.489052</td>\n",
       "      <td>1.000000</td>\n",
       "      <td>0.000000</td>\n",
       "      <td>0.000000</td>\n",
       "      <td>0.000000</td>\n",
       "      <td>0.000000</td>\n",
       "    </tr>\n",
       "    <tr>\n",
       "      <th>50%</th>\n",
       "      <td>10.026888</td>\n",
       "      <td>1.006459</td>\n",
       "      <td>1.005754</td>\n",
       "      <td>1.000000</td>\n",
       "      <td>0.000000</td>\n",
       "      <td>0.000000</td>\n",
       "      <td>1.000000</td>\n",
       "      <td>0.000000</td>\n",
       "    </tr>\n",
       "    <tr>\n",
       "      <th>75%</th>\n",
       "      <td>25.866217</td>\n",
       "      <td>3.313696</td>\n",
       "      <td>2.091252</td>\n",
       "      <td>1.000000</td>\n",
       "      <td>1.000000</td>\n",
       "      <td>0.000000</td>\n",
       "      <td>1.000000</td>\n",
       "      <td>0.000000</td>\n",
       "    </tr>\n",
       "    <tr>\n",
       "      <th>max</th>\n",
       "      <td>2033.498174</td>\n",
       "      <td>990.070315</td>\n",
       "      <td>65.150879</td>\n",
       "      <td>1.000000</td>\n",
       "      <td>1.000000</td>\n",
       "      <td>1.000000</td>\n",
       "      <td>1.000000</td>\n",
       "      <td>1.000000</td>\n",
       "    </tr>\n",
       "  </tbody>\n",
       "</table>\n",
       "</div>"
      ],
      "text/plain": [
       "       distance_from_home  distance_from_last_transaction  \\\n",
       "count        10000.000000                    10000.000000   \n",
       "mean            26.374744                        4.807107   \n",
       "std             58.811106                       22.260124   \n",
       "min              0.049270                        0.000930   \n",
       "25%              3.808606                        0.305219   \n",
       "50%             10.026888                        1.006459   \n",
       "75%             25.866217                        3.313696   \n",
       "max           2033.498174                      990.070315   \n",
       "\n",
       "       ratio_to_median_purchase_price  repeat_retailer     used_chip  \\\n",
       "count                    10000.000000     10000.000000  10000.000000   \n",
       "mean                         1.824164         0.879000      0.350800   \n",
       "std                          2.762438         0.326144      0.477244   \n",
       "min                          0.011373         0.000000      0.000000   \n",
       "25%                          0.489052         1.000000      0.000000   \n",
       "50%                          1.005754         1.000000      0.000000   \n",
       "75%                          2.091252         1.000000      1.000000   \n",
       "max                         65.150879         1.000000      1.000000   \n",
       "\n",
       "       used_pin_number  online_order         fraud  \n",
       "count     10000.000000  10000.000000  10000.000000  \n",
       "mean          0.104800      0.641500      0.084100  \n",
       "std           0.306311      0.479584      0.277552  \n",
       "min           0.000000      0.000000      0.000000  \n",
       "25%           0.000000      0.000000      0.000000  \n",
       "50%           0.000000      1.000000      0.000000  \n",
       "75%           0.000000      1.000000      0.000000  \n",
       "max           1.000000      1.000000      1.000000  "
      ]
     },
     "execution_count": 5,
     "metadata": {},
     "output_type": "execute_result"
    }
   ],
   "source": [
    "df2 = df.loc[0:9999]\n",
    "df2.describe()"
   ]
  },
  {
   "cell_type": "markdown",
   "id": "b5a1d98d",
   "metadata": {},
   "source": [
    "Looking good so far. Let's check if there is a need to clean the data. I am not sure if there are any empty values in the dataset."
   ]
  },
  {
   "cell_type": "code",
   "execution_count": 6,
   "id": "cf071f54",
   "metadata": {},
   "outputs": [
    {
     "data": {
      "text/plain": [
       "distance_from_home                0\n",
       "distance_from_last_transaction    0\n",
       "ratio_to_median_purchase_price    0\n",
       "repeat_retailer                   0\n",
       "used_chip                         0\n",
       "used_pin_number                   0\n",
       "online_order                      0\n",
       "fraud                             0\n",
       "dtype: int64"
      ]
     },
     "execution_count": 6,
     "metadata": {},
     "output_type": "execute_result"
    }
   ],
   "source": [
    "df2.isnull().sum()"
   ]
  },
  {
   "cell_type": "markdown",
   "id": "b0514df1",
   "metadata": {},
   "source": [
    "All clear! There are no null values in our dataset. Looks like the data came clean, so there is not much we need to do to process the data further.\n",
    "\n",
    "Now, let's visualise our data. One of the interesting feature I want to explore is distance_from_home. The hypothesis is that if the transaction happens further away from home, it is more likely that the transaction is fraudulent. That is because fraudulent transactions are likely to occur due to scammers that are based overseas. We'll use a frequency plot to plot distance_from_home, with fraud as the hue."
   ]
  },
  {
   "cell_type": "code",
   "execution_count": 7,
   "id": "0cac2784",
   "metadata": {},
   "outputs": [
    {
     "data": {
      "text/plain": [
       "<Figure size 1440x2160 with 0 Axes>"
      ]
     },
     "metadata": {},
     "output_type": "display_data"
    },
    {
     "data": {
      "image/png": "[encoded data removed]",
      "text/plain": [
       "<Figure size 412x360 with 1 Axes>"
      ]
     },
     "metadata": {
      "needs_background": "light"
     },
     "output_type": "display_data"
    }
   ],
   "source": [
    "sns.set_style = \"whitegrid\"\n",
    "plt.figure(figsize=(20,30))\n",
    "\n",
    "sns.displot(data = df2, x=\"distance_from_home\", hue=\"fraud\", multiple = \"stack\")\n",
    "plt.xlabel(\"Distance from Home\")\n",
    "plt.ylabel(\"Frequency of transactions\")\n",
    "plt.title(\"Frequency plot of transactions based on their distance from home\")\n",
    "plt.show()"
   ]
  },
  {
   "cell_type": "markdown",
   "id": "b6c79a02",
   "metadata": {},
   "source": [
    "By visually inspecting the chart, we can see that fraudulent transactions tend to happen further away from home - there appears to be a little bit more \"orange\" on the right side of the chart.\n",
    "\n",
    "However, this relationship is not very clear. We will require further analysis to determine if there is a correlation between distance_from_home and fraudulent transactions.\n",
    "\n",
    "Also, notice that there are a lot more non-fraudulent transactions compared to fraudulent transactions. To be exact, only 8.41% of the 10,000 transactions are fraudulent."
   ]
  },
  {
   "cell_type": "code",
   "execution_count": 8,
   "id": "a4c8532d",
   "metadata": {},
   "outputs": [
    {
     "name": "stdout",
     "output_type": "stream",
     "text": [
      "Percentage of transactions that are fraudulent =  8.41 %\n"
     ]
    }
   ],
   "source": [
    "print(\"Percentage of transactions that are fraudulent = \", df2[\"fraud\"].sum() / df2[\"fraud\"].count() * 100, \"%\")"
   ]
  },
  {
   "cell_type": "markdown",
   "id": "9e954dc8",
   "metadata": {},
   "source": [
    "Next, I'll make a boxplot to see if there is a difference in the spread of distance from home in fraudulent vs non-fraudulent transactions."
   ]
  },
  {
   "cell_type": "code",
   "execution_count": 9,
   "id": "b6f5a791",
   "metadata": {},
   "outputs": [
    {
     "data": {
      "image/png": "[encoded data removed]",
      "text/plain": [
       "<Figure size 720x720 with 1 Axes>"
      ]
     },
     "metadata": {
      "needs_background": "light"
     },
     "output_type": "display_data"
    }
   ],
   "source": [
    "sns.set_style = \"whitegrid\"\n",
    "plt.figure(figsize=(10,10))\n",
    "\n",
    "sns.boxplot(data = df2, x=\"fraud\", y =\"distance_from_home\")\n",
    "plt.ylabel(\"Distance from Home\")\n",
    "plt.title(\"Comparison of transaction distance from home for fraudulent and non-fraudulent transactions\")\n",
    "plt.show()"
   ]
  },
  {
   "cell_type": "markdown",
   "id": "b5ddae5b",
   "metadata": {},
   "source": [
    "Looking at the boxplot, we can see that there are a number of outliers in both fraudulent and non-fraudulent transactions. However, we can see that the interquartile range of distance_from_home for fraudulent transactions is wider than that for non-fraudulent transactions.\n",
    "\n",
    "In other words, fraudulent transactions have a wider spread of values in terms of the transactions' distance from home."
   ]
  },
  {
   "cell_type": "markdown",
   "id": "356b27d2",
   "metadata": {},
   "source": [
    "To get a better idea of how the features are correlated, let's do a quick check on the correlation between the various features and the target variable.\n",
    "\n",
    "Even better, let's do a heatmap."
   ]
  },
  {
   "cell_type": "code",
   "execution_count": 10,
   "id": "24766086",
   "metadata": {},
   "outputs": [
    {
     "data": {
      "text/html": [
       "<div>\n",
       "<style scoped>\n",
       "    .dataframe tbody tr th:only-of-type {\n",
       "        vertical-align: middle;\n",
       "    }\n",
       "\n",
       "    .dataframe tbody tr th {\n",
       "        vertical-align: top;\n",
       "    }\n",
       "\n",
       "    .dataframe thead th {\n",
       "        text-align: right;\n",
       "    }\n",
       "</style>\n",
       "<table border=\"1\" class=\"dataframe\">\n",
       "  <thead>\n",
       "    <tr style=\"text-align: right;\">\n",
       "      <th></th>\n",
       "      <th>distance_from_home</th>\n",
       "      <th>distance_from_last_transaction</th>\n",
       "      <th>ratio_to_median_purchase_price</th>\n",
       "      <th>repeat_retailer</th>\n",
       "      <th>used_chip</th>\n",
       "      <th>used_pin_number</th>\n",
       "      <th>online_order</th>\n",
       "      <th>fraud</th>\n",
       "    </tr>\n",
       "  </thead>\n",
       "  <tbody>\n",
       "    <tr>\n",
       "      <th>distance_from_home</th>\n",
       "      <td>1.000000</td>\n",
       "      <td>-0.007818</td>\n",
       "      <td>-0.011728</td>\n",
       "      <td>0.159345</td>\n",
       "      <td>-0.003907</td>\n",
       "      <td>0.009682</td>\n",
       "      <td>-0.004010</td>\n",
       "      <td>0.195015</td>\n",
       "    </tr>\n",
       "    <tr>\n",
       "      <th>distance_from_last_transaction</th>\n",
       "      <td>-0.007818</td>\n",
       "      <td>1.000000</td>\n",
       "      <td>0.013426</td>\n",
       "      <td>0.003432</td>\n",
       "      <td>-0.010870</td>\n",
       "      <td>-0.000533</td>\n",
       "      <td>0.016498</td>\n",
       "      <td>0.109744</td>\n",
       "    </tr>\n",
       "    <tr>\n",
       "      <th>ratio_to_median_purchase_price</th>\n",
       "      <td>-0.011728</td>\n",
       "      <td>0.013426</td>\n",
       "      <td>1.000000</td>\n",
       "      <td>0.001640</td>\n",
       "      <td>0.016197</td>\n",
       "      <td>0.005871</td>\n",
       "      <td>-0.004465</td>\n",
       "      <td>0.436470</td>\n",
       "    </tr>\n",
       "    <tr>\n",
       "      <th>repeat_retailer</th>\n",
       "      <td>0.159345</td>\n",
       "      <td>0.003432</td>\n",
       "      <td>0.001640</td>\n",
       "      <td>1.000000</td>\n",
       "      <td>0.004798</td>\n",
       "      <td>-0.005198</td>\n",
       "      <td>0.010368</td>\n",
       "      <td>-0.001369</td>\n",
       "    </tr>\n",
       "    <tr>\n",
       "      <th>used_chip</th>\n",
       "      <td>-0.003907</td>\n",
       "      <td>-0.010870</td>\n",
       "      <td>0.016197</td>\n",
       "      <td>0.004798</td>\n",
       "      <td>1.000000</td>\n",
       "      <td>-0.010015</td>\n",
       "      <td>-0.003663</td>\n",
       "      <td>-0.070989</td>\n",
       "    </tr>\n",
       "    <tr>\n",
       "      <th>used_pin_number</th>\n",
       "      <td>0.009682</td>\n",
       "      <td>-0.000533</td>\n",
       "      <td>0.005871</td>\n",
       "      <td>-0.005198</td>\n",
       "      <td>-0.010015</td>\n",
       "      <td>1.000000</td>\n",
       "      <td>-0.012453</td>\n",
       "      <td>-0.101327</td>\n",
       "    </tr>\n",
       "    <tr>\n",
       "      <th>online_order</th>\n",
       "      <td>-0.004010</td>\n",
       "      <td>0.016498</td>\n",
       "      <td>-0.004465</td>\n",
       "      <td>0.010368</td>\n",
       "      <td>-0.003663</td>\n",
       "      <td>-0.012453</td>\n",
       "      <td>1.000000</td>\n",
       "      <td>0.204738</td>\n",
       "    </tr>\n",
       "    <tr>\n",
       "      <th>fraud</th>\n",
       "      <td>0.195015</td>\n",
       "      <td>0.109744</td>\n",
       "      <td>0.436470</td>\n",
       "      <td>-0.001369</td>\n",
       "      <td>-0.070989</td>\n",
       "      <td>-0.101327</td>\n",
       "      <td>0.204738</td>\n",
       "      <td>1.000000</td>\n",
       "    </tr>\n",
       "  </tbody>\n",
       "</table>\n",
       "</div>"
      ],
      "text/plain": [
       "                                distance_from_home  \\\n",
       "distance_from_home                        1.000000   \n",
       "distance_from_last_transaction           -0.007818   \n",
       "ratio_to_median_purchase_price           -0.011728   \n",
       "repeat_retailer                           0.159345   \n",
       "used_chip                                -0.003907   \n",
       "used_pin_number                           0.009682   \n",
       "online_order                             -0.004010   \n",
       "fraud                                     0.195015   \n",
       "\n",
       "                                distance_from_last_transaction  \\\n",
       "distance_from_home                                   -0.007818   \n",
       "distance_from_last_transaction                        1.000000   \n",
       "ratio_to_median_purchase_price                        0.013426   \n",
       "repeat_retailer                                       0.003432   \n",
       "used_chip                                            -0.010870   \n",
       "used_pin_number                                      -0.000533   \n",
       "online_order                                          0.016498   \n",
       "fraud                                                 0.109744   \n",
       "\n",
       "                                ratio_to_median_purchase_price  \\\n",
       "distance_from_home                                   -0.011728   \n",
       "distance_from_last_transaction                        0.013426   \n",
       "ratio_to_median_purchase_price                        1.000000   \n",
       "repeat_retailer                                       0.001640   \n",
       "used_chip                                             0.016197   \n",
       "used_pin_number                                       0.005871   \n",
       "online_order                                         -0.004465   \n",
       "fraud                                                 0.436470   \n",
       "\n",
       "                                repeat_retailer  used_chip  used_pin_number  \\\n",
       "distance_from_home                     0.159345  -0.003907         0.009682   \n",
       "distance_from_last_transaction         0.003432  -0.010870        -0.000533   \n",
       "ratio_to_median_purchase_price         0.001640   0.016197         0.005871   \n",
       "repeat_retailer                        1.000000   0.004798        -0.005198   \n",
       "used_chip                              0.004798   1.000000        -0.010015   \n",
       "used_pin_number                       -0.005198  -0.010015         1.000000   \n",
       "online_order                           0.010368  -0.003663        -0.012453   \n",
       "fraud                                 -0.001369  -0.070989        -0.101327   \n",
       "\n",
       "                                online_order     fraud  \n",
       "distance_from_home                 -0.004010  0.195015  \n",
       "distance_from_last_transaction      0.016498  0.109744  \n",
       "ratio_to_median_purchase_price     -0.004465  0.436470  \n",
       "repeat_retailer                     0.010368 -0.001369  \n",
       "used_chip                          -0.003663 -0.070989  \n",
       "used_pin_number                    -0.012453 -0.101327  \n",
       "online_order                        1.000000  0.204738  \n",
       "fraud                               0.204738  1.000000  "
      ]
     },
     "execution_count": 10,
     "metadata": {},
     "output_type": "execute_result"
    }
   ],
   "source": [
    "df2.corr()"
   ]
  },
  {
   "cell_type": "code",
   "execution_count": 11,
   "id": "8a3c43df",
   "metadata": {},
   "outputs": [
    {
     "data": {
      "image/png": "[encoded data removed]",
      "text/plain": [
       "<Figure size 432x288 with 2 Axes>"
      ]
     },
     "metadata": {
      "needs_background": "light"
     },
     "output_type": "display_data"
    }
   ],
   "source": [
    "sns.heatmap(df2.corr(),annot=True,cmap=\"coolwarm\")\n",
    "plt.title(\"Correlation Heatmap\")\n",
    "plt.show()"
   ]
  },
  {
   "cell_type": "markdown",
   "id": "7ea0942f",
   "metadata": {},
   "source": [
    "Looking at the heatmap, it appears that the feature with the strongest correlation to fraud is ratio_to_median_purchase_price.\n",
    "\n",
    "The Pearson R correlation is 0.44. It is a positive correlation, meaning transactions with a larger ratio to median purchase price is more likely to be fraudulent.\n",
    "\n",
    "distance_from_home and online_order seems to matter too, albeit somewhat less prominent than ratio_to_median_purchase_price. The correlation of both features with the target variable is both at 0.2.\n",
    "\n",
    "None of the features are strongly correlated with each other. This is a good thing because multicollinearity may undermine the performance of our machine learning models"
   ]
  },
  {
   "cell_type": "markdown",
   "id": "c4d878a4",
   "metadata": {},
   "source": [
    "## Building Machine Learning Models for Prediction"
   ]
  },
  {
   "cell_type": "markdown",
   "id": "0273c08d",
   "metadata": {},
   "source": [
    "Now that we have explored our data a little bit, let's build two machine learning models for the purposes of prediction.\n",
    "\n",
    "We will first build a logistic regression model, followed by a random forest classifier regression model. We will then compare which is the better model for classifying fraudulent transactions."
   ]
  },
  {
   "cell_type": "markdown",
   "id": "0bd34436",
   "metadata": {},
   "source": [
    "### Feature Scaling and Splitting Dataset"
   ]
  },
  {
   "cell_type": "markdown",
   "id": "b93f90e6",
   "metadata": {},
   "source": [
    "First, import the libraries for Machine Learning."
   ]
  },
  {
   "cell_type": "code",
   "execution_count": 12,
   "id": "466ccd61",
   "metadata": {},
   "outputs": [],
   "source": [
    "from sklearn.preprocessing import StandardScaler #for scaling our features so that disparity in scales of the features do not distort our model\n",
    "from sklearn.model_selection import train_test_split #helps to split our datasets into training and testing sets\n",
    "from sklearn.linear_model import LogisticRegression #scikit learn library for Logistic Regression Model\n",
    "from sklearn.ensemble import RandomForestClassifier #scikit learn library for Random Forest Classifier Model\n",
    "from sklearn.metrics import confusion_matrix, classification_report #metrics for measuring accuracy of our models"
   ]
  },
  {
   "cell_type": "markdown",
   "id": "68bb49f7",
   "metadata": {},
   "source": [
    "Define the X and y variables."
   ]
  },
  {
   "cell_type": "code",
   "execution_count": 13,
   "id": "3a929d12",
   "metadata": {},
   "outputs": [],
   "source": [
    "X = df2[[\"distance_from_home\",\"distance_from_last_transaction\",\"ratio_to_median_purchase_price\",\"repeat_retailer\",\"used_chip\",\"used_pin_number\",\"online_order\"]]\n",
    "y = df2[\"fraud\"]"
   ]
  },
  {
   "cell_type": "markdown",
   "id": "5517fb5e",
   "metadata": {},
   "source": [
    "Split the data set into training and testing data using train_test_split."
   ]
  },
  {
   "cell_type": "code",
   "execution_count": 14,
   "id": "e004c93f",
   "metadata": {},
   "outputs": [],
   "source": [
    "X_train, X_test, y_train, y_test = train_test_split(X, y, test_size = 0.3, random_state = 101)"
   ]
  },
  {
   "cell_type": "markdown",
   "id": "64fdfdaa",
   "metadata": {},
   "source": [
    "Create a scaler object to apply standard scaling later on in modelling.\n",
    "\n",
    "To ensure the integrity of our test dataset, we will scale and transform our train and test dataset separately to prevent information leakage into our test dataset. "
   ]
  },
  {
   "cell_type": "code",
   "execution_count": 15,
   "id": "1cff66ea",
   "metadata": {},
   "outputs": [],
   "source": [
    "scaler = StandardScaler()"
   ]
  },
  {
   "cell_type": "markdown",
   "id": "4fffa655",
   "metadata": {},
   "source": [
    "### Creating and Evaluating a Logistic Regression Model"
   ]
  },
  {
   "cell_type": "markdown",
   "id": "2e6cb91f",
   "metadata": {},
   "source": [
    "Let's create a model using Logistic Regression. Since we are dealing with a classification problem which is binary in nature, logistic regression is more suitable for this purpose than a linear regression model."
   ]
  },
  {
   "cell_type": "code",
   "execution_count": 16,
   "id": "4c7ce1c3",
   "metadata": {},
   "outputs": [],
   "source": [
    "model1 = LogisticRegression()"
   ]
  },
  {
   "cell_type": "code",
   "execution_count": 17,
   "id": "78694751",
   "metadata": {},
   "outputs": [
    {
     "data": {
      "text/plain": [
       "LogisticRegression()"
      ]
     },
     "execution_count": 17,
     "metadata": {},
     "output_type": "execute_result"
    }
   ],
   "source": [
    "model1.fit(scaler.fit_transform(X_train), y_train)"
   ]
  },
  {
   "cell_type": "code",
   "execution_count": 18,
   "id": "abe5d545",
   "metadata": {},
   "outputs": [],
   "source": [
    "y_pred1 = model1.predict(scaler.transform(X_test))"
   ]
  },
  {
   "cell_type": "code",
   "execution_count": 19,
   "id": "b5442dab",
   "metadata": {},
   "outputs": [
    {
     "name": "stdout",
     "output_type": "stream",
     "text": [
      "Confusion Matrix for Logistic Regression Model\n",
      "[[2727   17]\n",
      " [ 109  147]]\n",
      "\n",
      "\n",
      "Classification Report for Logistic Regression Model\n",
      "              precision    recall  f1-score   support\n",
      "\n",
      "         0.0       0.96      0.99      0.98      2744\n",
      "         1.0       0.90      0.57      0.70       256\n",
      "\n",
      "    accuracy                           0.96      3000\n",
      "   macro avg       0.93      0.78      0.84      3000\n",
      "weighted avg       0.96      0.96      0.95      3000\n",
      "\n"
     ]
    }
   ],
   "source": [
    "cm1 = confusion_matrix(y_test, y_pred1)\n",
    "\n",
    "print(\"Confusion Matrix for Logistic Regression Model\")\n",
    "print(cm1)\n",
    "\n",
    "report1 = classification_report(y_test, y_pred1)\n",
    "\n",
    "print(\"\\n\")\n",
    "\n",
    "print(\"Classification Report for Logistic Regression Model\")\n",
    "print(report1)"
   ]
  },
  {
   "cell_type": "markdown",
   "id": "ffe0ce9a",
   "metadata": {},
   "source": [
    "Looks like our Logistic Regression model isn't performing that well! While we are able to correctly point out most instances of genuine transactions, we are not so great at catching fraudulent transactions.\n",
    "\n",
    "A recall rate of 0.57 for fraudulent transactions means that we are only catching 57% of all fraudulent transactions. Many of the fraudulent transactions (109) will remain undetected if we rely on this model."
   ]
  },
  {
   "cell_type": "markdown",
   "id": "14250445",
   "metadata": {},
   "source": [
    "### Logistic Regression - Feature Selection"
   ]
  },
  {
   "cell_type": "markdown",
   "id": "ebe90435",
   "metadata": {},
   "source": [
    "As discussed earlier, the correlation heatmap shows that not all features are equally correlated with the target variable. This may be the cause of the poor performance of our logistic regression model.\n",
    "\n",
    "To improve the performance of our logistic regression model, we should consider selecting only the most relevant features, and build our model based on these features."
   ]
  },
  {
   "cell_type": "markdown",
   "id": "081f230e",
   "metadata": {},
   "source": [
    "#### Feature Selection by Examining Pearson R Correlation\n",
    "\n",
    "One intuitive way to select features is to examine the correlation values of the features with the target variable. We should then omit features that have very low correlations with the target variable in our logistic regression model."
   ]
  },
  {
   "cell_type": "code",
   "execution_count": 20,
   "id": "bf88f9ff",
   "metadata": {},
   "outputs": [
    {
     "data": {
      "image/png": "[encoded data removed]",
      "text/plain": [
       "<Figure size 432x288 with 2 Axes>"
      ]
     },
     "metadata": {
      "needs_background": "light"
     },
     "output_type": "display_data"
    }
   ],
   "source": [
    "#Let's look at our correlation heatmap again\n",
    "sns.heatmap(df2.corr(),annot=True,cmap=\"coolwarm\")\n",
    "plt.title(\"Correlation Heatmap\")\n",
    "plt.show()"
   ]
  },
  {
   "cell_type": "markdown",
   "id": "7dcc0bb9",
   "metadata": {},
   "source": [
    "Looking at the heatmap, three features have a correlation of 0.2 or higher with the target variable:\n",
    "- distance_from_home\n",
    "- ratio_to_median_purchase_price\n",
    "- online_order\n",
    "\n",
    "We will include only these three features and see if we can improve the model."
   ]
  },
  {
   "cell_type": "code",
   "execution_count": 22,
   "id": "c867c5a3",
   "metadata": {},
   "outputs": [],
   "source": [
    "X = df2[[\"distance_from_home\",\"ratio_to_median_purchase_price\",\"online_order\"]]\n",
    "y = df2[\"fraud\"]\n",
    "\n",
    "X_train, X_test, y_train, y_test = train_test_split(X, y, test_size = 0.3, random_state = 101)\n",
    "\n",
    "#create a scaler object\n",
    "\n",
    "scaler = StandardScaler()"
   ]
  },
  {
   "cell_type": "code",
   "execution_count": 23,
   "id": "d8d5df7f",
   "metadata": {},
   "outputs": [],
   "source": [
    "model2 = LogisticRegression()"
   ]
  },
  {
   "cell_type": "code",
   "execution_count": 24,
   "id": "d18dfd44",
   "metadata": {
    "scrolled": true
   },
   "outputs": [
    {
     "data": {
      "text/plain": [
       "LogisticRegression()"
      ]
     },
     "execution_count": 24,
     "metadata": {},
     "output_type": "execute_result"
    }
   ],
   "source": [
    "model2.fit(scaler.fit_transform(X_train), y_train)"
   ]
  },
  {
   "cell_type": "code",
   "execution_count": 25,
   "id": "0211362c",
   "metadata": {},
   "outputs": [],
   "source": [
    "y_pred2 = model2.predict(scaler.transform(X_test))"
   ]
  },
  {
   "cell_type": "code",
   "execution_count": 26,
   "id": "1f4bd72a",
   "metadata": {},
   "outputs": [
    {
     "name": "stdout",
     "output_type": "stream",
     "text": [
      "Confusion Matrix for Logistic Regression Model - Only 3 Features\n",
      "[[2724   20]\n",
      " [ 150  106]]\n",
      "\n",
      "\n",
      "Classification Report for Logistic Regression Model - Only 3 Features\n",
      "              precision    recall  f1-score   support\n",
      "\n",
      "         0.0       0.95      0.99      0.97      2744\n",
      "         1.0       0.84      0.41      0.55       256\n",
      "\n",
      "    accuracy                           0.94      3000\n",
      "   macro avg       0.89      0.70      0.76      3000\n",
      "weighted avg       0.94      0.94      0.93      3000\n",
      "\n"
     ]
    }
   ],
   "source": [
    "cm2 = confusion_matrix(y_test, y_pred2)\n",
    "\n",
    "print(\"Confusion Matrix for Logistic Regression Model - Only 3 Features\")\n",
    "print(cm2)\n",
    "\n",
    "report2 = classification_report(y_test, y_pred2)\n",
    "\n",
    "print(\"\\n\")\n",
    "\n",
    "print(\"Classification Report for Logistic Regression Model - Only 3 Features\")\n",
    "print(report2)"
   ]
  },
  {
   "cell_type": "markdown",
   "id": "700c4ab6",
   "metadata": {},
   "source": [
    "Unfortunately, the model did not improve after we selected only 3 features. Let's try another method for feature selection - Lasso regularisation."
   ]
  },
  {
   "cell_type": "markdown",
   "id": "c337c9ea",
   "metadata": {},
   "source": [
    "#### Feature Selection Using Lasso regularisation"
   ]
  },
  {
   "cell_type": "markdown",
   "id": "4bf294be",
   "metadata": {},
   "source": [
    "Instead of examining and removing features manually, let us use Lasso to select the most relevant features for us. "
   ]
  },
  {
   "cell_type": "markdown",
   "id": "4459d2ce",
   "metadata": {},
   "source": [
    "Import additional libraries for Lasso Regularisation"
   ]
  },
  {
   "cell_type": "code",
   "execution_count": 86,
   "id": "dc8d0ec6",
   "metadata": {},
   "outputs": [],
   "source": [
    "from sklearn.feature_selection import SelectFromModel\n",
    "from sklearn.linear_model import Lasso"
   ]
  },
  {
   "cell_type": "markdown",
   "id": "97899da8",
   "metadata": {},
   "source": [
    "Define our features and variables. Perform train-test-split and scale our data as usual."
   ]
  },
  {
   "cell_type": "code",
   "execution_count": 87,
   "id": "c44eeb6a",
   "metadata": {},
   "outputs": [
    {
     "data": {
      "text/plain": [
       "StandardScaler()"
      ]
     },
     "execution_count": 87,
     "metadata": {},
     "output_type": "execute_result"
    }
   ],
   "source": [
    "#Define the features and target variable\n",
    "\n",
    "X = df2[[\"distance_from_home\",\"distance_from_last_transaction\",\"ratio_to_median_purchase_price\",\"repeat_retailer\",\"used_chip\",\"used_pin_number\",\"online_order\"]]\n",
    "y = df2[\"fraud\"]\n",
    "\n",
    "#Perform our train test split\n",
    "X_train, X_test, y_train, y_test = train_test_split(X, y, test_size = 0.3, random_state = 101)\n",
    "\n",
    "#Fit our scaler object to the X_train data set. The scaler object will be used in later steps to transform our datasets\n",
    "scaler = StandardScaler()\n",
    "scaler.fit(X_train)"
   ]
  },
  {
   "cell_type": "markdown",
   "id": "d5e48e01",
   "metadata": {},
   "source": [
    "Create a selector object and select features for our model using Lasso regularisation.\n",
    "\n",
    "This process reduces the coefficient of some factors to 0, essentially omitting them from our regression model."
   ]
  },
  {
   "cell_type": "code",
   "execution_count": 88,
   "id": "b1aee6bb",
   "metadata": {},
   "outputs": [
    {
     "data": {
      "text/plain": [
       "SelectFromModel(estimator=LogisticRegression(C=0.5, random_state=10,\n",
       "                                             solver='liblinear'))"
      ]
     },
     "execution_count": 88,
     "metadata": {},
     "output_type": "execute_result"
    }
   ],
   "source": [
    "sel_ = SelectFromModel(LogisticRegression(C=0.5, penalty='l2', solver='liblinear', random_state=10))\n",
    "sel_.fit(scaler.transform(X_train), y_train)"
   ]
  },
  {
   "cell_type": "markdown",
   "id": "331ddbcc",
   "metadata": {},
   "source": [
    "The next cell tells us which features have been selected by our Lasso regularisation process.\n",
    "\n",
    "The following 3 features were selected for our model:\n",
    "- ratio_to_median_purchase_price\n",
    "- used_pin_number\n",
    "- online_order"
   ]
  },
  {
   "cell_type": "code",
   "execution_count": 89,
   "id": "98bbcaeb",
   "metadata": {
    "scrolled": true
   },
   "outputs": [
    {
     "name": "stdout",
     "output_type": "stream",
     "text": [
      "[False False  True False False  True  True]\n",
      "Selected Features:\n",
      "Index(['ratio_to_median_purchase_price', 'used_pin_number', 'online_order'], dtype='object')\n"
     ]
    }
   ],
   "source": [
    "# Get the feature indices of the selected features\n",
    "\n",
    "selected_feature_indices = sel_.get_support()\n",
    "\n",
    "print(selected_feature_indices)\n",
    "\n",
    "# Get the names of the selected features\n",
    "\n",
    "selected_feature_names = X.columns[selected_feature_indices]\n",
    "\n",
    "print(\"Selected Features:\")\n",
    "print(selected_feature_names)"
   ]
  },
  {
   "cell_type": "markdown",
   "id": "da5f35d1",
   "metadata": {},
   "source": [
    "Transform the training and testing sets to select the relevant features."
   ]
  },
  {
   "cell_type": "code",
   "execution_count": 90,
   "id": "311a0a10",
   "metadata": {},
   "outputs": [],
   "source": [
    "X_train_selected = sel_.transform(scaler.transform(X_train))\n",
    "X_test_selected = sel_.transform(scaler.transform(X_test))"
   ]
  },
  {
   "cell_type": "markdown",
   "id": "95258e6d",
   "metadata": {},
   "source": [
    "Train the logistic regression model on the selected features."
   ]
  },
  {
   "cell_type": "code",
   "execution_count": 91,
   "id": "f9da608a",
   "metadata": {},
   "outputs": [],
   "source": [
    "model3 = LogisticRegression()"
   ]
  },
  {
   "cell_type": "code",
   "execution_count": 92,
   "id": "1fcb17a0",
   "metadata": {},
   "outputs": [
    {
     "data": {
      "text/plain": [
       "LogisticRegression()"
      ]
     },
     "execution_count": 92,
     "metadata": {},
     "output_type": "execute_result"
    }
   ],
   "source": [
    "model3.fit(X_train_selected, y_train)"
   ]
  },
  {
   "cell_type": "code",
   "execution_count": 93,
   "id": "8cb89d09",
   "metadata": {},
   "outputs": [],
   "source": [
    "#We will now use the fitted model to make a prediction on the test data set, and check it's performance\n",
    "\n",
    "y_pred3 = model3.predict(X_test_selected)"
   ]
  },
  {
   "cell_type": "code",
   "execution_count": 94,
   "id": "3bbd2997",
   "metadata": {},
   "outputs": [
    {
     "name": "stdout",
     "output_type": "stream",
     "text": [
      "Confusion Matrix for Logistic Regression Model - Only 1 Feature selected by Lasso\n",
      "[[2736    8]\n",
      " [ 135  121]]\n",
      "\n",
      "\n",
      "Classification Report for Logistic Regression Model - Only 1 Feature selected by Lasso\n",
      "              precision    recall  f1-score   support\n",
      "\n",
      "         0.0       0.95      1.00      0.97      2744\n",
      "         1.0       0.94      0.47      0.63       256\n",
      "\n",
      "    accuracy                           0.95      3000\n",
      "   macro avg       0.95      0.73      0.80      3000\n",
      "weighted avg       0.95      0.95      0.95      3000\n",
      "\n"
     ]
    }
   ],
   "source": [
    "cm3 = confusion_matrix(y_test, y_pred3)\n",
    "\n",
    "print(\"Confusion Matrix for Logistic Regression Model - Only 1 Feature selected by Lasso\")\n",
    "print(cm3)\n",
    "\n",
    "report3 = classification_report(y_test, y_pred3)\n",
    "\n",
    "print(\"\\n\")\n",
    "\n",
    "print(\"Classification Report for Logistic Regression Model - Only 1 Feature selected by Lasso\")\n",
    "print(report3)"
   ]
  },
  {
   "cell_type": "markdown",
   "id": "5b6cb553",
   "metadata": {},
   "source": [
    "Looks like the performance has slightly deproved in comparison with our first logistic regression model! Perhaps, we should try another supervised machine learning algorithm for our dataset."
   ]
  },
  {
   "cell_type": "markdown",
   "id": "751d523c",
   "metadata": {},
   "source": [
    "If we are curious about the mathematical formula behind our logistic regression model, we can also print the coefficients and intercept of our model."
   ]
  },
  {
   "cell_type": "code",
   "execution_count": 95,
   "id": "16538ef8",
   "metadata": {},
   "outputs": [
    {
     "name": "stdout",
     "output_type": "stream",
     "text": [
      "Coefficients: [[ 1.80117822 -3.04711803  3.52540939]]\n",
      "Intercept: [-5.86896321]\n"
     ]
    }
   ],
   "source": [
    "coefficients = model3.coef_\n",
    "intercept = model3.intercept_\n",
    "\n",
    "# Print the coefficients and intercept\n",
    "print(\"Coefficients:\", coefficients)\n",
    "print(\"Intercept:\", intercept)"
   ]
  },
  {
   "cell_type": "markdown",
   "id": "29b8c7d6",
   "metadata": {},
   "source": [
    "### Creating and Evaluating a Random Forest Classifier Model"
   ]
  },
  {
   "cell_type": "markdown",
   "id": "eeadbf29",
   "metadata": {},
   "source": [
    "Let's build a second model using the Random Forest Classifier algorithm."
   ]
  },
  {
   "cell_type": "markdown",
   "id": "b76d5bbd",
   "metadata": {},
   "source": [
    "We first conduct our usual train-test split and scaling."
   ]
  },
  {
   "cell_type": "code",
   "execution_count": 96,
   "id": "b2700781",
   "metadata": {},
   "outputs": [],
   "source": [
    "#Define the features and target variable\n",
    "\n",
    "X = df2[[\"distance_from_home\",\"distance_from_last_transaction\",\"ratio_to_median_purchase_price\",\"repeat_retailer\",\"used_chip\",\"used_pin_number\",\"online_order\"]]\n",
    "y = df2[\"fraud\"]\n",
    "\n",
    "\n",
    "#Perform our train test split\n",
    "X_train, X_test, y_train, y_test = train_test_split(X, y, test_size = 0.3, random_state = 101)\n",
    "\n",
    "scaler = StandardScaler()"
   ]
  },
  {
   "cell_type": "code",
   "execution_count": 97,
   "id": "7cd92852",
   "metadata": {},
   "outputs": [],
   "source": [
    "rf_classifier = RandomForestClassifier()"
   ]
  },
  {
   "cell_type": "code",
   "execution_count": 98,
   "id": "26826421",
   "metadata": {},
   "outputs": [
    {
     "data": {
      "text/plain": [
       "RandomForestClassifier()"
      ]
     },
     "execution_count": 98,
     "metadata": {},
     "output_type": "execute_result"
    }
   ],
   "source": [
    "rf_classifier.fit(scaler.fit_transform(X_train), y_train)"
   ]
  },
  {
   "cell_type": "code",
   "execution_count": 99,
   "id": "b61b77bb",
   "metadata": {},
   "outputs": [],
   "source": [
    "y_pred4 = rf_classifier.predict(scaler.transform(X_test))"
   ]
  },
  {
   "cell_type": "code",
   "execution_count": 103,
   "id": "10efedcb",
   "metadata": {},
   "outputs": [
    {
     "name": "stdout",
     "output_type": "stream",
     "text": [
      "Confusion Matrix for Random Forest Classifier Model\n",
      "[[2744    0]\n",
      " [   5  251]]\n",
      "\n",
      "\n",
      "Classification Report for Random Forest Classifier Model\n",
      "              precision    recall  f1-score   support\n",
      "\n",
      "         0.0       1.00      1.00      1.00      2744\n",
      "         1.0       1.00      0.98      0.99       256\n",
      "\n",
      "    accuracy                           1.00      3000\n",
      "   macro avg       1.00      0.99      0.99      3000\n",
      "weighted avg       1.00      1.00      1.00      3000\n",
      "\n"
     ]
    }
   ],
   "source": [
    "cm4 = confusion_matrix(y_test, y_pred4)\n",
    "\n",
    "print(\"Confusion Matrix for Random Forest Classifier Model\")\n",
    "print(cm4)\n",
    "\n",
    "report = classification_report(y_test, y_pred4)\n",
    "\n",
    "print(\"\\n\")\n",
    "\n",
    "print(\"Classification Report for Random Forest Classifier Model\")\n",
    "print(report)"
   ]
  },
  {
   "cell_type": "markdown",
   "id": "0bf73abf",
   "metadata": {},
   "source": [
    "The random forest classifier model is much better compared to the logistic regression model!\n",
    "\n",
    "The model has accurately classified all instances of genuine transactions as non-fraudulent.\n",
    "\n",
    "At the same time, the model caught 98% of all fraudulent transactions! Only 5 fraudulent transactions remain undetected when using this model.\n",
    "\n",
    "The f1-score is a harmonic mean of the precision and recall rate that helps us understand the performance of the model. While the best variation of our logistic regression model scores a respectible f1-score of 0.98 for non-fraudulent transactions, the f1-score for fraudulent transactions is lower at 0.70.\n",
    "\n",
    "Comparatively, the random forest classifier is superior here. The f1-scores (1.00 for non-fraudulent transactions and 0.99 for fraudulent transactions) indicates that the random forest classifier model outperforms the logistic regression model."
   ]
  },
  {
   "cell_type": "markdown",
   "id": "a9c3efd0",
   "metadata": {},
   "source": [
    "## Conclusion\n",
    "\n",
    "This project is a simple exercise for me to demonstrate my data science and machine learning skills. Being able to leverage technology to detect and prevent fraud has always been an area of interest for me, and I am glad that I now have this ability to do so. I hope you had as much fun reading this as I had working on this project!\n",
    "\n",
    "<b>Author</b> - Royston Kan\n",
    "\n",
    "<b>Date</b> - 8 July 2023"
   ]
  },
  {
   "cell_type": "code",
   "execution_count": null,
   "id": "6bc19ae6",
   "metadata": {},
   "outputs": [],
   "source": []
  }
 ],
 "metadata": {
  "kernelspec": {
   "display_name": "Python 3 (ipykernel)",
   "language": "python",
   "name": "python3"
  },
  "language_info": {
   "codemirror_mode": {
    "name": "ipython",
    "version": 3
   },
   "file_extension": ".py",
   "mimetype": "text/x-python",
   "name": "python",
   "nbconvert_exporter": "python",
   "pygments_lexer": "ipython3",
   "version": "3.9.7"
  }
 },
 "nbformat": 4,
 "nbformat_minor": 5
}
